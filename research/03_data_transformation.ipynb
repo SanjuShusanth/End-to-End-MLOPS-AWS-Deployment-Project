{
 "cells": [
  {
   "cell_type": "code",
   "execution_count": 1,
   "metadata": {},
   "outputs": [],
   "source": [
    "import os"
   ]
  },
  {
   "cell_type": "code",
   "execution_count": 2,
   "metadata": {},
   "outputs": [
    {
     "data": {
      "text/plain": [
       "'c:\\\\Users\\\\Sanju\\\\WORKSPACE\\\\End-to-End-MLOPS-AWS-Deployment-Project\\\\research'"
      ]
     },
     "execution_count": 2,
     "metadata": {},
     "output_type": "execute_result"
    }
   ],
   "source": [
    "%pwd"
   ]
  },
  {
   "cell_type": "code",
   "execution_count": 3,
   "metadata": {},
   "outputs": [],
   "source": [
    "os.chdir(\"../\")"
   ]
  },
  {
   "cell_type": "code",
   "execution_count": 4,
   "metadata": {},
   "outputs": [
    {
     "data": {
      "text/plain": [
       "'c:\\\\Users\\\\Sanju\\\\WORKSPACE\\\\End-to-End-MLOPS-AWS-Deployment-Project'"
      ]
     },
     "execution_count": 4,
     "metadata": {},
     "output_type": "execute_result"
    }
   ],
   "source": [
    "%pwd"
   ]
  },
  {
   "cell_type": "code",
   "execution_count": 5,
   "metadata": {},
   "outputs": [],
   "source": [
    "from dataclasses import dataclass\n",
    "from pathlib import Path\n",
    "\n",
    "\n",
    "@dataclass(frozen=True)\n",
    "class DataTransformationConfig:\n",
    "    root_dir: Path\n",
    "    preprocessor_path: Path\n",
    "    train_data_path: Path\n",
    "    test_data_path: Path\n",
    "    target_column: str"
   ]
  },
  {
   "cell_type": "code",
   "execution_count": 6,
   "metadata": {},
   "outputs": [],
   "source": [
    "from MLProject.constants import *\n",
    "from MLProject.utils.common import read_yaml, create_directories"
   ]
  },
  {
   "cell_type": "code",
   "execution_count": 7,
   "metadata": {},
   "outputs": [],
   "source": [
    "class ConfigurationManager:\n",
    "    def __init__(\n",
    "        self,\n",
    "        config_filepath = CONFIG_FILE_PATH,\n",
    "        params_filepath = PARAMS_FILE_PATH,\n",
    "        schema_filepath = SCHEMA_FILE_PATH):\n",
    "\n",
    "        self.config = read_yaml(config_filepath)\n",
    "        self.params = read_yaml(params_filepath)\n",
    "        self.schema = read_yaml(schema_filepath)\n",
    "\n",
    "        create_directories([self.config.artifacts_root])\n",
    "\n",
    "\n",
    "    \n",
    "    def get_data_transformation_config(self) -> DataTransformationConfig:\n",
    "        config = self.config.data_transformation\n",
    "        schema = self.schema.TARGET_COLUMN\n",
    "\n",
    "        create_directories([config.root_dir])\n",
    "\n",
    "        data_transformation_config = DataTransformationConfig(\n",
    "            root_dir = config.root_dir,\n",
    "            preprocessor_path=config.preprocessor_path,\n",
    "            train_data_path=config.train_data_path,\n",
    "            test_data_path=config.test_data_path,\n",
    "            target_column=schema.name\n",
    "        )\n",
    "\n",
    "        return data_transformation_config"
   ]
  },
  {
   "cell_type": "code",
   "execution_count": 8,
   "metadata": {},
   "outputs": [],
   "source": [
    "import os\n",
    "from MLProject import logger\n",
    "from sklearn.neighbors import KNeighborsRegressor\n",
    "from sklearn.pipeline import Pipeline\n",
    "from sklearn.preprocessing import StandardScaler, OneHotEncoder, OrdinalEncoder\n",
    "from sklearn.impute import SimpleImputer\n",
    "from sklearn.compose import ColumnTransformer\n",
    "from sklearn.preprocessing import FunctionTransformer\n",
    "from MLProject.entity.config_entity import DataTransformationConfig\n",
    "from MLProject.utils.common import save_object\n",
    "import pandas as pd\n",
    "import numpy as np\n",
    "import pickle"
   ]
  },
  {
   "cell_type": "code",
   "execution_count": 9,
   "metadata": {},
   "outputs": [],
   "source": [
    "class DataTransformation:\n",
    "    def __init__(self, config: DataTransformationConfig):\n",
    "        self.config = config\n",
    "\n",
    "    def get_data_transformation_object(self):\n",
    "        try:\n",
    "            Nominal_categorical_cols = ['Drop_point','Dosage_Form','Pickup_Point']\n",
    "            Ord_categorical_cols = ['Delivery_Status', 'Shipment_Mode']\n",
    "            Numerical_cols = ['Line_Item_Quantity','Pack_Price','Unit_Price','Weight','Freight_Cost']\n",
    "\n",
    "            delivery_status = ['Delivered Early', 'On time', 'Delayed']\n",
    "            shipment_mode = ['Air', 'Truck', 'Air Charter', 'Ocean']\n",
    "\n",
    "            num_pipeline = Pipeline(\n",
    "                steps=[\n",
    "                    ('imputer', SimpleImputer(strategy='median')),\n",
    "                    ('scalar', StandardScaler())\n",
    "                ]\n",
    "            )\n",
    "\n",
    "            ord_cat_pipeline= Pipeline(\n",
    "                steps=[\n",
    "                    ('imputer', SimpleImputer(strategy='most_frequent')),\n",
    "                    ('ordinalencoder', OrdinalEncoder(categories=[delivery_status, shipment_mode]))\n",
    "                ]\n",
    "            )\n",
    "\n",
    "\n",
    "            nom_cat_pipeline = Pipeline(\n",
    "                steps=[\n",
    "                    ('imputer',SimpleImputer(strategy='most_frequent')),\n",
    "                    ('OneHotEncoder', OneHotEncoder(drop='first'))\n",
    "                ]\n",
    "            )\n",
    "\n",
    "            preprocessor = ColumnTransformer([\n",
    "                ('num_pipeline', num_pipeline, Numerical_cols),\n",
    "                ('ord_cat_pipeline', ord_cat_pipeline, Ord_categorical_cols),\n",
    "                ('nom_cat_pipeline', nom_cat_pipeline, Nominal_categorical_cols)\n",
    "\n",
    "            ])\n",
    "\n",
    "            return preprocessor\n",
    "\n",
    "        except Exception as e:\n",
    "            raise e\n",
    "        \n",
    "    \n",
    "    def initiate_data_transformation(self):\n",
    "        try:\n",
    "            train_df = pd.read_csv(self.config.train_data_path)\n",
    "            test_df = pd.read_csv(self.config.test_data_path)\n",
    "\n",
    "            train_df['Drop_point'].replace(\"Côte d'Ivoire\", \"Côte d Ivoire\")\n",
    "            test_df['Drop_point'].replace(\"Côte d'Ivoire\", \"Côte d Ivoire\")\n",
    "\n",
    "            input_feature_train_df = train_df.drop(columns=['Line_Item_Value'])\n",
    "            target_feature_train_df = train_df['Line_Item_Value']\n",
    "\n",
    "            input_feature_test_df = test_df.drop(columns=['Line_Item_Value'])\n",
    "            target_feature_test_df = test_df['Line_Item_Value']\n",
    "\n",
    "            preprocessing_obj = self.get_data_transformation_object()\n",
    "\n",
    "            input_feature_train_arr = pd.DataFrame(preprocessing_obj.fit_transform(input_feature_train_df), columns=preprocessing_obj.get_feature_names_out())\n",
    "            input_feature_test_arr = pd.DataFrame(preprocessing_obj.transform(input_feature_test_df), columns=preprocessing_obj.get_feature_names_out())\n",
    "\n",
    "            train_arr = pd.concat([input_feature_train_arr, target_feature_train_df], axis=1)\n",
    "            test_arr = pd.concat([input_feature_test_arr, target_feature_test_df], axis=1)\n",
    "\n",
    "            train_arr.columns=['Line_Item_Quantity', 'Pack_Price', 'Unit_Price', 'Weight', 'Freight_Cost', 'Delivery_Status', 'Shipment_Mode', \"Drop_point_Côte d Ivoire\", 'Drop_point_Ethiopia', 'Drop_point_Guyana', 'Drop_point_Haiti', 'Drop_point_Kenya', 'Drop_point_Mozambique', 'Drop_point_Nigeria', 'Drop_point_Others', 'Drop_point_Rwanda', 'Drop_point_South Africa', 'Drop_point_South_Sudan', 'Drop_point_Tanzania', 'Drop_point_Uganda', 'Drop_point_Vietnam', 'Drop_point_Zambia', \n",
    "                               'Drop_point_Zimbabwe', 'Dosage_Form_Tablet', 'Dosage_Form_Tablet - FDC', 'Dosage_Form_Test kit', 'Pickup_Point_Others', 'Line_Item_Value']\n",
    "\n",
    "            test_arr.columns=['Line_Item_Quantity', 'Pack_Price', 'Unit_Price', 'Weight', 'Freight_Cost', 'Delivery_Status', 'Shipment_Mode', \"Drop_point_Côte d Ivoire\", 'Drop_point_Ethiopia', 'Drop_point_Guyana', 'Drop_point_Haiti', 'Drop_point_Kenya', 'Drop_point_Mozambique', 'Drop_point_Nigeria', 'Drop_point_Others', 'Drop_point_Rwanda', 'Drop_point_South Africa', 'Drop_point_South_Sudan', 'Drop_point_Tanzania', 'Drop_point_Uganda', 'Drop_point_Vietnam', 'Drop_point_Zambia', \n",
    "                              'Drop_point_Zimbabwe', 'Dosage_Form_Tablet', 'Dosage_Form_Tablet - FDC', 'Dosage_Form_Test kit', 'Pickup_Point_Others', 'Line_Item_Value']\n",
    "        \n",
    "            train_arr.to_csv(os.path.join(self.config.root_dir, 'trans_train.csv'), index=False)\n",
    "            test_arr.to_csv(os.path.join(self.config.root_dir, 'trans_test.csv'), index=False)\n",
    "\n",
    "            save_object(\n",
    "                file_path=self.config.preprocessor_path,\n",
    "                obj=preprocessing_obj\n",
    "            )\n",
    "\n",
    "            return (\n",
    "                train_arr,\n",
    "                test_arr,\n",
    "                self.config.preprocessor_path\n",
    "            )\n",
    "        except Exception as e:\n",
    "            print(\"Exception occurred during data transformation:\", e)\n",
    "            raise e"
   ]
  },
  {
   "cell_type": "code",
   "execution_count": 10,
   "metadata": {},
   "outputs": [
    {
     "name": "stdout",
     "output_type": "stream",
     "text": [
      "[2024-02-24 03:58:10,637: INFO: common: yaml file: config\\config.yaml loaded successfully]\n",
      "[2024-02-24 03:58:10,639: INFO: common: yaml file: params.yaml loaded successfully]\n",
      "[2024-02-24 03:58:10,641: INFO: common: yaml file: schema.yaml loaded successfully]\n",
      "[2024-02-24 03:58:10,643: INFO: common: created directory at: artifacts]\n",
      "[2024-02-24 03:58:10,644: INFO: common: created directory at: artifacts/data_transformation]\n",
      "num_pipeline__Line_Item_Quantity              0\n",
      "num_pipeline__Pack_Price                      0\n",
      "num_pipeline__Unit_Price                      0\n",
      "num_pipeline__Weight                          0\n",
      "num_pipeline__Freight_Cost                    0\n",
      "ord_cat_pipeline__Delivery_Status             0\n",
      "ord_cat_pipeline__Shipment_Mode               0\n",
      "nom_cat_pipeline__Drop_point_Côte d'Ivoire    0\n",
      "nom_cat_pipeline__Drop_point_Ethiopia         0\n",
      "nom_cat_pipeline__Drop_point_Guyana           0\n",
      "nom_cat_pipeline__Drop_point_Haiti            0\n",
      "nom_cat_pipeline__Drop_point_Kenya            0\n",
      "nom_cat_pipeline__Drop_point_Mozambique       0\n",
      "nom_cat_pipeline__Drop_point_Nigeria          0\n",
      "nom_cat_pipeline__Drop_point_Others           0\n",
      "nom_cat_pipeline__Drop_point_Rwanda           0\n",
      "nom_cat_pipeline__Drop_point_South Africa     0\n",
      "nom_cat_pipeline__Drop_point_South Sudan      0\n",
      "nom_cat_pipeline__Drop_point_Tanzania         0\n",
      "nom_cat_pipeline__Drop_point_Uganda           0\n",
      "nom_cat_pipeline__Drop_point_Vietnam          0\n",
      "nom_cat_pipeline__Drop_point_Zambia           0\n",
      "nom_cat_pipeline__Drop_point_Zimbabwe         0\n",
      "nom_cat_pipeline__Dosage_Form_Tablet          0\n",
      "nom_cat_pipeline__Dosage_Form_Tablet - FDC    0\n",
      "nom_cat_pipeline__Dosage_Form_Test kit        0\n",
      "nom_cat_pipeline__Pickup_Point_Others         0\n",
      "Line_Item_Value                               0\n",
      "dtype: int64\n"
     ]
    }
   ],
   "source": [
    "try:\n",
    "    config = ConfigurationManager()\n",
    "    data_transformation_config = config.get_data_transformation_config()\n",
    "    data_transformation = DataTransformation(config=data_transformation_config)\n",
    "    data_transformation.get_data_transformation_object()\n",
    "    data_transformation.initiate_data_transformation() \n",
    "except Exception as e:\n",
    "    raise e"
   ]
  },
  {
   "cell_type": "code",
   "execution_count": 11,
   "metadata": {},
   "outputs": [],
   "source": [
    "from pathlib import Path\n",
    "import pickle"
   ]
  },
  {
   "cell_type": "code",
   "execution_count": 12,
   "metadata": {},
   "outputs": [],
   "source": [
    "with open(Path(r'C:\\Users\\Sanju\\WORKSPACE\\End-to-End-MLOPS-AWS-Deployment-Project\\artifacts\\models\\preprocessor.pkl'), 'rb') as  file:\n",
    "    preprocessor = pickle.load(file)"
   ]
  },
  {
   "cell_type": "code",
   "execution_count": 24,
   "metadata": {},
   "outputs": [],
   "source": [
    "f = pd.read_csv(r'C:\\Users\\Sanju\\WORKSPACE\\End-to-End-MLOPS-AWS-Deployment-Project\\artifacts\\data_validation\\test.csv')"
   ]
  },
  {
   "cell_type": "code",
   "execution_count": 25,
   "metadata": {},
   "outputs": [],
   "source": [
    "f.drop(columns=['Line_Item_Value'], inplace=True)"
   ]
  },
  {
   "cell_type": "code",
   "execution_count": 46,
   "metadata": {},
   "outputs": [
    {
     "name": "stdout",
     "output_type": "stream",
     "text": [
      "  Drop_point Shipment_Mode Dosage_Form  Line_Item_Quantity  Pack_Price  \\\n",
      "0     Zambia         Truck      Tablet               47227        5.78   \n",
      "\n",
      "   Unit_Price  Weight  Freight_Cost  Line_Item_Insurance  Delivery_Status  \\\n",
      "0        0.19  4959.0       9973.51               535.03  Delivered Early   \n",
      "\n",
      "  Pickup_Point  \n",
      "0        India  \n"
     ]
    }
   ],
   "source": [
    "import pandas as pd\n",
    "\n",
    "data = pd.DataFrame([['Zambia', 'Truck', 'Tablet', 47227, 5.78, 0.19, 4959.0, 9973.51, 535.03, 'Delivered Early', 'India']],\n",
    "                    columns=['Drop_point', 'Shipment_Mode', 'Dosage_Form', 'Line_Item_Quantity', 'Pack_Price',\n",
    "                             'Unit_Price', 'Weight', 'Freight_Cost', 'Line_Item_Insurance', 'Delivery_Status',\n",
    "                             'Pickup_Point'])\n",
    "\n",
    "print(data)\n"
   ]
  },
  {
   "cell_type": "code",
   "execution_count": 57,
   "metadata": {},
   "outputs": [
    {
     "data": {
      "text/plain": [
       "Index(['Drop_point', 'Shipment_Mode', 'Dosage_Form', 'Line_Item_Quantity',\n",
       "       'Pack_Price', 'Unit_Price', 'Weight', 'Freight_Cost',\n",
       "       'Line_Item_Insurance', 'Delivery_Status', 'Pickup_Point'],\n",
       "      dtype='object')"
      ]
     },
     "execution_count": 57,
     "metadata": {},
     "output_type": "execute_result"
    }
   ],
   "source": [
    "f.columns"
   ]
  },
  {
   "cell_type": "code",
   "execution_count": null,
   "metadata": {},
   "outputs": [],
   "source": [
    "info = ['Zambia','Truck','Tablet',47227,5.78,0.19,4959.0,9973.51,535.03,'Delivered Early','India']"
   ]
  },
  {
   "cell_type": "code",
   "execution_count": 58,
   "metadata": {},
   "outputs": [
    {
     "data": {
      "text/plain": [
       "array([[ 0.72440818, -0.38892298, -0.12025582,  0.20977891,  0.08118985,\n",
       "         0.        ,  1.        ,  0.        ,  0.        ,  0.        ,\n",
       "         0.        ,  0.        ,  0.        ,  0.        ,  0.        ,\n",
       "         0.        ,  0.        ,  0.        ,  0.        ,  0.        ,\n",
       "         0.        ,  1.        ,  0.        ,  1.        ,  0.        ,\n",
       "         0.        ,  0.        ]])"
      ]
     },
     "execution_count": 58,
     "metadata": {},
     "output_type": "execute_result"
    }
   ],
   "source": [
    "preprocessor.transform(pd.DataFrame([['Zambia','Truck','Tablet',47227,5.78,0.19,4959.0,9973.51,535.03,'Delivered Early','India']], columns=['Drop_point', 'Shipment_Mode', 'Dosage_Form', 'Line_Item_Quantity',\n",
    "       'Pack_Price', 'Unit_Price', 'Weight', 'Freight_Cost',\n",
    "       'Line_Item_Insurance', 'Delivery_Status', 'Pickup_Point']))"
   ]
  },
  {
   "cell_type": "code",
   "execution_count": null,
   "metadata": {},
   "outputs": [],
   "source": []
  }
 ],
 "metadata": {
  "kernelspec": {
   "display_name": "myenv",
   "language": "python",
   "name": "python3"
  },
  "language_info": {
   "codemirror_mode": {
    "name": "ipython",
    "version": 3
   },
   "file_extension": ".py",
   "mimetype": "text/x-python",
   "name": "python",
   "nbconvert_exporter": "python",
   "pygments_lexer": "ipython3",
   "version": "3.10.0"
  }
 },
 "nbformat": 4,
 "nbformat_minor": 2
}
