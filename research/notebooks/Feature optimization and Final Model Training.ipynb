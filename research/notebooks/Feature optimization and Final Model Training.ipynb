{
 "cells": [
  {
   "cell_type": "code",
   "execution_count": 1,
   "id": "3333ca31",
   "metadata": {},
   "outputs": [],
   "source": [
    "import pandas as pd\n",
    "import numpy as np\n",
    "import matplotlib.pyplot as plt\n",
    "import seaborn as sns\n",
    "import scipy\n",
    "from sklearn.impute import SimpleImputer\n",
    "from sklearn.pipeline import Pipeline\n",
    "from sklearn.compose import ColumnTransformer\n",
    "from sklearn.feature_selection import SelectKBest\n",
    "from statsmodels.stats.outliers_influence import variance_inflation_factor\n",
    "from sklearn.impute import KNNImputer\n",
    "from sklearn.neighbors import KNeighborsRegressor\n",
    "from sklearn.model_selection import train_test_split\n",
    "from sklearn.preprocessing import StandardScaler, PowerTransformer, OneHotEncoder, OrdinalEncoder, LabelEncoder\n",
    "from sklearn.ensemble import RandomForestRegressor, GradientBoostingRegressor,AdaBoostRegressor\n",
    "from sklearn.tree import DecisionTreeRegressor\n",
    "from xgboost import XGBRegressor\n",
    "from sklearn.metrics import r2_score, mean_squared_error, mean_absolute_error\n",
    "import warnings\n",
    "warnings.filterwarnings('ignore')"
   ]
  },
  {
   "cell_type": "code",
   "execution_count": 2,
   "id": "99c59612",
   "metadata": {},
   "outputs": [],
   "source": [
    "df = pd.read_csv('Cleaned_dataset.csv', index_col=0)"
   ]
  },
  {
   "cell_type": "code",
   "execution_count": 3,
   "id": "9e6ee34b",
   "metadata": {},
   "outputs": [],
   "source": [
    "df.drop(columns=['Unit of Measure (Per Pack)', 'Vendor INCO Term', 'Product Group', 'Sub Classification', 'Brand', 'Dosage', 'Fulfill Via', 'First Line Designation'], inplace=True)"
   ]
  },
  {
   "cell_type": "code",
   "execution_count": 4,
   "id": "69c53be3",
   "metadata": {},
   "outputs": [],
   "source": [
    "df.rename(columns={'Country':'Drop point'}, inplace=True)"
   ]
  },
  {
   "cell_type": "code",
   "execution_count": 5,
   "id": "6af33638",
   "metadata": {},
   "outputs": [],
   "source": [
    "df.columns = ['Drop_point','Shipment_Mode','Dosage_Form','Line_Item_Quantity','Line_Item_Value',\n",
    "                          'Pack_Price','Unit_Price','Weight','Freight_Cost',\n",
    "                          'Line_Item_Insurance','Delivery_Status','Pickup_Point']"
   ]
  },
  {
   "cell_type": "code",
   "execution_count": 6,
   "id": "a437893e",
   "metadata": {},
   "outputs": [],
   "source": [
    "df.to_csv('updated_dataset.csv', index=0)"
   ]
  },
  {
   "cell_type": "code",
   "execution_count": 7,
   "id": "f0718ec0",
   "metadata": {},
   "outputs": [],
   "source": [
    "df=pd.read_csv('updated_dataset.csv')"
   ]
  },
  {
   "cell_type": "code",
   "execution_count": 8,
   "id": "0db5fbf4",
   "metadata": {},
   "outputs": [
    {
     "data": {
      "text/html": [
       "<div>\n",
       "<style scoped>\n",
       "    .dataframe tbody tr th:only-of-type {\n",
       "        vertical-align: middle;\n",
       "    }\n",
       "\n",
       "    .dataframe tbody tr th {\n",
       "        vertical-align: top;\n",
       "    }\n",
       "\n",
       "    .dataframe thead th {\n",
       "        text-align: right;\n",
       "    }\n",
       "</style>\n",
       "<table border=\"1\" class=\"dataframe\">\n",
       "  <thead>\n",
       "    <tr style=\"text-align: right;\">\n",
       "      <th></th>\n",
       "      <th>Drop_point</th>\n",
       "      <th>Shipment_Mode</th>\n",
       "      <th>Dosage_Form</th>\n",
       "      <th>Line_Item_Quantity</th>\n",
       "      <th>Line_Item_Value</th>\n",
       "      <th>Pack_Price</th>\n",
       "      <th>Unit_Price</th>\n",
       "      <th>Weight</th>\n",
       "      <th>Freight_Cost</th>\n",
       "      <th>Line_Item_Insurance</th>\n",
       "      <th>Delivery_Status</th>\n",
       "      <th>Pickup_Point</th>\n",
       "    </tr>\n",
       "  </thead>\n",
       "  <tbody>\n",
       "    <tr>\n",
       "      <th>0</th>\n",
       "      <td>Côte d'Ivoire</td>\n",
       "      <td>Air</td>\n",
       "      <td>Test kit</td>\n",
       "      <td>19</td>\n",
       "      <td>551.0</td>\n",
       "      <td>29.00</td>\n",
       "      <td>0.97</td>\n",
       "      <td>13.0</td>\n",
       "      <td>780.34</td>\n",
       "      <td>NaN</td>\n",
       "      <td>On time</td>\n",
       "      <td>NaN</td>\n",
       "    </tr>\n",
       "    <tr>\n",
       "      <th>1</th>\n",
       "      <td>Vietnam</td>\n",
       "      <td>Air</td>\n",
       "      <td>Others</td>\n",
       "      <td>1000</td>\n",
       "      <td>6200.0</td>\n",
       "      <td>6.20</td>\n",
       "      <td>0.03</td>\n",
       "      <td>358.0</td>\n",
       "      <td>4521.50</td>\n",
       "      <td>NaN</td>\n",
       "      <td>On time</td>\n",
       "      <td>India</td>\n",
       "    </tr>\n",
       "    <tr>\n",
       "      <th>2</th>\n",
       "      <td>Côte d'Ivoire</td>\n",
       "      <td>Air</td>\n",
       "      <td>Test kit</td>\n",
       "      <td>500</td>\n",
       "      <td>40000.0</td>\n",
       "      <td>80.00</td>\n",
       "      <td>0.80</td>\n",
       "      <td>171.0</td>\n",
       "      <td>1653.78</td>\n",
       "      <td>NaN</td>\n",
       "      <td>On time</td>\n",
       "      <td>Others</td>\n",
       "    </tr>\n",
       "    <tr>\n",
       "      <th>3</th>\n",
       "      <td>Vietnam</td>\n",
       "      <td>Air</td>\n",
       "      <td>Tablet</td>\n",
       "      <td>31920</td>\n",
       "      <td>127360.8</td>\n",
       "      <td>3.99</td>\n",
       "      <td>0.07</td>\n",
       "      <td>1855.0</td>\n",
       "      <td>16007.06</td>\n",
       "      <td>NaN</td>\n",
       "      <td>On time</td>\n",
       "      <td>India</td>\n",
       "    </tr>\n",
       "    <tr>\n",
       "      <th>4</th>\n",
       "      <td>Vietnam</td>\n",
       "      <td>Air</td>\n",
       "      <td>Others</td>\n",
       "      <td>38000</td>\n",
       "      <td>121600.0</td>\n",
       "      <td>3.20</td>\n",
       "      <td>0.05</td>\n",
       "      <td>7590.0</td>\n",
       "      <td>45450.08</td>\n",
       "      <td>NaN</td>\n",
       "      <td>On time</td>\n",
       "      <td>India</td>\n",
       "    </tr>\n",
       "  </tbody>\n",
       "</table>\n",
       "</div>"
      ],
      "text/plain": [
       "      Drop_point Shipment_Mode Dosage_Form  Line_Item_Quantity  \\\n",
       "0  Côte d'Ivoire           Air    Test kit                  19   \n",
       "1        Vietnam           Air      Others                1000   \n",
       "2  Côte d'Ivoire           Air    Test kit                 500   \n",
       "3        Vietnam           Air      Tablet               31920   \n",
       "4        Vietnam           Air      Others               38000   \n",
       "\n",
       "   Line_Item_Value  Pack_Price  Unit_Price  Weight  Freight_Cost  \\\n",
       "0            551.0       29.00        0.97    13.0        780.34   \n",
       "1           6200.0        6.20        0.03   358.0       4521.50   \n",
       "2          40000.0       80.00        0.80   171.0       1653.78   \n",
       "3         127360.8        3.99        0.07  1855.0      16007.06   \n",
       "4         121600.0        3.20        0.05  7590.0      45450.08   \n",
       "\n",
       "   Line_Item_Insurance Delivery_Status Pickup_Point  \n",
       "0                  NaN         On time          NaN  \n",
       "1                  NaN         On time        India  \n",
       "2                  NaN         On time       Others  \n",
       "3                  NaN         On time        India  \n",
       "4                  NaN         On time        India  "
      ]
     },
     "execution_count": 8,
     "metadata": {},
     "output_type": "execute_result"
    }
   ],
   "source": [
    "df.head()"
   ]
  },
  {
   "cell_type": "markdown",
   "id": "d81aba07",
   "metadata": {},
   "source": [
    "### Filling the Missing values"
   ]
  },
  {
   "cell_type": "code",
   "execution_count": 9,
   "id": "4169be8f",
   "metadata": {},
   "outputs": [],
   "source": [
    "def knn_impute(data, na_target):\n",
    "    \n",
    "    df1 = data.copy()\n",
    "    \n",
    "    numeric_df = df1.select_dtypes(np.number)\n",
    "    non_na_columns = numeric_df.loc[:, numeric_df.isna().sum() == 0].columns\n",
    "    \n",
    "    y_train_im = numeric_df.loc[numeric_df[na_target].isna() == False, na_target]\n",
    "    X_train_im = numeric_df.loc[numeric_df[na_target].isna() == False, non_na_columns]\n",
    "    X_test_im = numeric_df.loc[numeric_df[na_target].isna() == True, non_na_columns]\n",
    "    \n",
    "    knn = KNeighborsRegressor()\n",
    "    knn.fit(X_train_im, y_train_im)\n",
    "    \n",
    "    y_pred_im = knn.predict(X_test_im)\n",
    "    \n",
    "    df1.loc[numeric_df[na_target].isna() == True, na_target] = y_pred_im\n",
    "\n",
    "    return df1"
   ]
  },
  {
   "cell_type": "code",
   "execution_count": 10,
   "id": "541af006",
   "metadata": {},
   "outputs": [],
   "source": [
    "for column in ['Weight',\n",
    "               'Freight_Cost',\n",
    "               'Line_Item_Insurance']:\n",
    "    df = knn_impute(df, column)"
   ]
  },
  {
   "cell_type": "code",
   "execution_count": 11,
   "id": "977b3e5d",
   "metadata": {},
   "outputs": [
    {
     "data": {
      "text/plain": [
       "Line_Item_Quantity     0\n",
       "Line_Item_Value        0\n",
       "Pack_Price             0\n",
       "Unit_Price             0\n",
       "Weight                 0\n",
       "Freight_Cost           0\n",
       "Line_Item_Insurance    0\n",
       "dtype: int64"
      ]
     },
     "execution_count": 11,
     "metadata": {},
     "output_type": "execute_result"
    }
   ],
   "source": [
    "df.select_dtypes(np.number).isnull().sum()"
   ]
  },
  {
   "cell_type": "code",
   "execution_count": 12,
   "id": "1b19a50b",
   "metadata": {},
   "outputs": [],
   "source": [
    "df1 = df.copy()"
   ]
  },
  {
   "cell_type": "markdown",
   "id": "9dcbf3a1",
   "metadata": {},
   "source": [
    "#### Dividing Dependent and Independent Variables"
   ]
  },
  {
   "cell_type": "code",
   "execution_count": 13,
   "id": "4b6a7590",
   "metadata": {},
   "outputs": [],
   "source": [
    "X = df1.drop(columns=['Line_Item_Value'])\n",
    "y = df1['Line_Item_Value']"
   ]
  },
  {
   "cell_type": "code",
   "execution_count": 14,
   "id": "f0f2b5aa",
   "metadata": {},
   "outputs": [],
   "source": [
    "#Segregating numerical and nominal and categorical variables\n",
    "numerical_cols = X.select_dtypes(exclude='object').columns"
   ]
  },
  {
   "cell_type": "code",
   "execution_count": 15,
   "id": "7a08f18f",
   "metadata": {},
   "outputs": [
    {
     "data": {
      "text/html": [
       "<div>\n",
       "<style scoped>\n",
       "    .dataframe tbody tr th:only-of-type {\n",
       "        vertical-align: middle;\n",
       "    }\n",
       "\n",
       "    .dataframe tbody tr th {\n",
       "        vertical-align: top;\n",
       "    }\n",
       "\n",
       "    .dataframe thead th {\n",
       "        text-align: right;\n",
       "    }\n",
       "</style>\n",
       "<table border=\"1\" class=\"dataframe\">\n",
       "  <thead>\n",
       "    <tr style=\"text-align: right;\">\n",
       "      <th></th>\n",
       "      <th>count</th>\n",
       "      <th>unique</th>\n",
       "      <th>top</th>\n",
       "      <th>freq</th>\n",
       "    </tr>\n",
       "  </thead>\n",
       "  <tbody>\n",
       "    <tr>\n",
       "      <th>Drop_point</th>\n",
       "      <td>10324</td>\n",
       "      <td>17</td>\n",
       "      <td>South Africa</td>\n",
       "      <td>1406</td>\n",
       "    </tr>\n",
       "    <tr>\n",
       "      <th>Shipment_Mode</th>\n",
       "      <td>9964</td>\n",
       "      <td>4</td>\n",
       "      <td>Air</td>\n",
       "      <td>6113</td>\n",
       "    </tr>\n",
       "    <tr>\n",
       "      <th>Dosage_Form</th>\n",
       "      <td>10324</td>\n",
       "      <td>4</td>\n",
       "      <td>Tablet</td>\n",
       "      <td>3532</td>\n",
       "    </tr>\n",
       "    <tr>\n",
       "      <th>Delivery_Status</th>\n",
       "      <td>10324</td>\n",
       "      <td>3</td>\n",
       "      <td>On time</td>\n",
       "      <td>6324</td>\n",
       "    </tr>\n",
       "    <tr>\n",
       "      <th>Pickup_Point</th>\n",
       "      <td>9222</td>\n",
       "      <td>2</td>\n",
       "      <td>India</td>\n",
       "      <td>5725</td>\n",
       "    </tr>\n",
       "  </tbody>\n",
       "</table>\n",
       "</div>"
      ],
      "text/plain": [
       "                 count unique           top  freq\n",
       "Drop_point       10324     17  South Africa  1406\n",
       "Shipment_Mode     9964      4           Air  6113\n",
       "Dosage_Form      10324      4        Tablet  3532\n",
       "Delivery_Status  10324      3       On time  6324\n",
       "Pickup_Point      9222      2         India  5725"
      ]
     },
     "execution_count": 15,
     "metadata": {},
     "output_type": "execute_result"
    }
   ],
   "source": [
    "X.select_dtypes('O').describe().T"
   ]
  },
  {
   "cell_type": "code",
   "execution_count": 16,
   "id": "a6ef0804",
   "metadata": {},
   "outputs": [],
   "source": [
    "Nominal_categorical_cols = ['Drop_point','Dosage_Form','Pickup_Point']"
   ]
  },
  {
   "cell_type": "code",
   "execution_count": 17,
   "id": "19ec095f",
   "metadata": {},
   "outputs": [],
   "source": [
    "Ord_categorical_cols = ['Delivery_Status', 'Shipment_Mode']"
   ]
  },
  {
   "cell_type": "code",
   "execution_count": 18,
   "id": "7300b095",
   "metadata": {},
   "outputs": [],
   "source": [
    "delivery_status = ['Delivered Early', 'On time', 'Delayed']\n",
    "shipment_mode = ['Air', 'Truck', 'Air Charter', 'Ocean']"
   ]
  },
  {
   "cell_type": "code",
   "execution_count": 19,
   "id": "fc87b92d",
   "metadata": {},
   "outputs": [
    {
     "data": {
      "text/html": [
       "<div>\n",
       "<style scoped>\n",
       "    .dataframe tbody tr th:only-of-type {\n",
       "        vertical-align: middle;\n",
       "    }\n",
       "\n",
       "    .dataframe tbody tr th {\n",
       "        vertical-align: top;\n",
       "    }\n",
       "\n",
       "    .dataframe thead th {\n",
       "        text-align: right;\n",
       "    }\n",
       "</style>\n",
       "<table border=\"1\" class=\"dataframe\">\n",
       "  <thead>\n",
       "    <tr style=\"text-align: right;\">\n",
       "      <th></th>\n",
       "      <th>Feature</th>\n",
       "      <th>Skew</th>\n",
       "      <th>Skewed</th>\n",
       "    </tr>\n",
       "  </thead>\n",
       "  <tbody>\n",
       "    <tr>\n",
       "      <th>0</th>\n",
       "      <td>Line_Item_Quantity</td>\n",
       "      <td>5.037583</td>\n",
       "      <td>True</td>\n",
       "    </tr>\n",
       "    <tr>\n",
       "      <th>1</th>\n",
       "      <td>Pack_Price</td>\n",
       "      <td>12.986545</td>\n",
       "      <td>True</td>\n",
       "    </tr>\n",
       "    <tr>\n",
       "      <th>2</th>\n",
       "      <td>Unit_Price</td>\n",
       "      <td>40.578952</td>\n",
       "      <td>True</td>\n",
       "    </tr>\n",
       "    <tr>\n",
       "      <th>3</th>\n",
       "      <td>Weight</td>\n",
       "      <td>47.346598</td>\n",
       "      <td>True</td>\n",
       "    </tr>\n",
       "    <tr>\n",
       "      <th>4</th>\n",
       "      <td>Freight_Cost</td>\n",
       "      <td>4.957242</td>\n",
       "      <td>True</td>\n",
       "    </tr>\n",
       "    <tr>\n",
       "      <th>5</th>\n",
       "      <td>Line_Item_Insurance</td>\n",
       "      <td>4.862114</td>\n",
       "      <td>True</td>\n",
       "    </tr>\n",
       "  </tbody>\n",
       "</table>\n",
       "</div>"
      ],
      "text/plain": [
       "               Feature       Skew  Skewed\n",
       "0   Line_Item_Quantity   5.037583    True\n",
       "1           Pack_Price  12.986545    True\n",
       "2           Unit_Price  40.578952    True\n",
       "3               Weight  47.346598    True\n",
       "4         Freight_Cost   4.957242    True\n",
       "5  Line_Item_Insurance   4.862114    True"
      ]
     },
     "execution_count": 19,
     "metadata": {},
     "output_type": "execute_result"
    }
   ],
   "source": [
    "### Feature Transformation\n",
    "\n",
    "skew_df = pd.DataFrame(X.select_dtypes(np.number).columns, columns=['Feature'])\n",
    "skew_df['Skew'] = skew_df['Feature'].apply(lambda feature: scipy.stats.skew(X[feature]))\n",
    "skew_df['Skewed'] = skew_df['Skew'].apply(lambda x: True if x >= 0.5 else False)\n",
    "skew_df"
   ]
  },
  {
   "cell_type": "code",
   "execution_count": 20,
   "id": "64fe08df",
   "metadata": {},
   "outputs": [],
   "source": [
    "for column in skew_df.query('Skewed == True')['Feature'].values:\n",
    "    X[column] = np.log1p(X[column])"
   ]
  },
  {
   "cell_type": "code",
   "execution_count": 21,
   "id": "aa3515b6",
   "metadata": {},
   "outputs": [
    {
     "data": {
      "text/html": [
       "<div>\n",
       "<style scoped>\n",
       "    .dataframe tbody tr th:only-of-type {\n",
       "        vertical-align: middle;\n",
       "    }\n",
       "\n",
       "    .dataframe tbody tr th {\n",
       "        vertical-align: top;\n",
       "    }\n",
       "\n",
       "    .dataframe thead th {\n",
       "        text-align: right;\n",
       "    }\n",
       "</style>\n",
       "<table border=\"1\" class=\"dataframe\">\n",
       "  <thead>\n",
       "    <tr style=\"text-align: right;\">\n",
       "      <th></th>\n",
       "      <th>Feature</th>\n",
       "      <th>Skew</th>\n",
       "      <th>Skewed</th>\n",
       "    </tr>\n",
       "  </thead>\n",
       "  <tbody>\n",
       "    <tr>\n",
       "      <th>0</th>\n",
       "      <td>Line_Item_Quantity</td>\n",
       "      <td>-0.483316</td>\n",
       "      <td>False</td>\n",
       "    </tr>\n",
       "    <tr>\n",
       "      <th>1</th>\n",
       "      <td>Pack_Price</td>\n",
       "      <td>0.490394</td>\n",
       "      <td>False</td>\n",
       "    </tr>\n",
       "    <tr>\n",
       "      <th>2</th>\n",
       "      <td>Unit_Price</td>\n",
       "      <td>4.129290</td>\n",
       "      <td>True</td>\n",
       "    </tr>\n",
       "    <tr>\n",
       "      <th>3</th>\n",
       "      <td>Weight</td>\n",
       "      <td>-0.442201</td>\n",
       "      <td>False</td>\n",
       "    </tr>\n",
       "    <tr>\n",
       "      <th>4</th>\n",
       "      <td>Freight_Cost</td>\n",
       "      <td>-0.277815</td>\n",
       "      <td>False</td>\n",
       "    </tr>\n",
       "    <tr>\n",
       "      <th>5</th>\n",
       "      <td>Line_Item_Insurance</td>\n",
       "      <td>-0.092782</td>\n",
       "      <td>False</td>\n",
       "    </tr>\n",
       "  </tbody>\n",
       "</table>\n",
       "</div>"
      ],
      "text/plain": [
       "               Feature      Skew  Skewed\n",
       "0   Line_Item_Quantity -0.483316   False\n",
       "1           Pack_Price  0.490394   False\n",
       "2           Unit_Price  4.129290    True\n",
       "3               Weight -0.442201   False\n",
       "4         Freight_Cost -0.277815   False\n",
       "5  Line_Item_Insurance -0.092782   False"
      ]
     },
     "execution_count": 21,
     "metadata": {},
     "output_type": "execute_result"
    }
   ],
   "source": [
    "skew_df = pd.DataFrame(X.select_dtypes(np.number).columns, columns=['Feature'])\n",
    "skew_df['Skew'] = skew_df['Feature'].apply(lambda feature: scipy.stats.skew(X[feature]))\n",
    "skew_df['Skewed'] = skew_df['Skew'].apply(lambda x: True if x >= 0.5 else False)\n",
    "skew_df"
   ]
  },
  {
   "cell_type": "markdown",
   "id": "c771a91b",
   "metadata": {},
   "source": [
    "### Target Transformation"
   ]
  },
  {
   "cell_type": "code",
   "execution_count": 22,
   "id": "2a82ce0d",
   "metadata": {},
   "outputs": [],
   "source": [
    "y = np.log1p(y)"
   ]
  },
  {
   "cell_type": "markdown",
   "id": "d00ba6b5",
   "metadata": {},
   "source": [
    "### Creating Pipeline "
   ]
  },
  {
   "cell_type": "code",
   "execution_count": 23,
   "id": "c0a56991",
   "metadata": {},
   "outputs": [],
   "source": [
    "## Numerical Pipeline\n",
    "\n",
    "num_pipeline=Pipeline(\n",
    "    steps=[\n",
    "    #('imputer', SimpleImputer(strategy='median')),\n",
    "    #('transformation', PowerTransformer(method='yeo-johnson')),\n",
    "    ('scaling', StandardScaler())\n",
    "    \n",
    "\n",
    "    ]\n",
    "\n",
    ")\n",
    "\n",
    "# Nominal_Categorigal Pipeline\n",
    "nom_cat_pipeline=Pipeline(\n",
    "    steps=[\n",
    "    ('imputer',SimpleImputer(strategy='most_frequent')),\n",
    "    ('OneHotEncoder', OneHotEncoder(drop='first'))\n",
    "    \n",
    "        \n",
    "    ]\n",
    "    \n",
    ")\n",
    "\n",
    "Ord_cat_pipeline = Pipeline(\n",
    "    steps=[\n",
    "        ('imputer',SimpleImputer(strategy='most_frequent')),\n",
    "        ('encoder', OrdinalEncoder(categories=[delivery_status, shipment_mode]))\n",
    "        \n",
    "    ]\n",
    ")\n",
    "\n",
    "\n",
    "\n",
    "preprocessor=ColumnTransformer([\n",
    "('num_pipeline',num_pipeline,numerical_cols),\n",
    "('nom_cat_pipeline',nom_cat_pipeline,Nominal_categorical_cols),\n",
    "('Ord_cat_pipeline', Ord_cat_pipeline, Ord_categorical_cols)\n",
    "])"
   ]
  },
  {
   "cell_type": "markdown",
   "id": "1d7f6685",
   "metadata": {},
   "source": [
    "### Train test split"
   ]
  },
  {
   "cell_type": "code",
   "execution_count": 24,
   "id": "4fd4707c",
   "metadata": {},
   "outputs": [],
   "source": [
    "X_train, X_test, y_train, y_test = train_test_split(X, y, test_size=0.2, random_state=42)"
   ]
  },
  {
   "cell_type": "code",
   "execution_count": 25,
   "id": "22b84482",
   "metadata": {},
   "outputs": [
    {
     "data": {
      "text/plain": [
       "((8259, 11), (2065, 11), (2065,), (8259,))"
      ]
     },
     "execution_count": 25,
     "metadata": {},
     "output_type": "execute_result"
    }
   ],
   "source": [
    "X_train.shape, X_test.shape, y_test.shape, y_train.shape"
   ]
  },
  {
   "cell_type": "code",
   "execution_count": 26,
   "id": "553fc12c",
   "metadata": {},
   "outputs": [],
   "source": [
    "X_train=pd.DataFrame(preprocessor.fit_transform(X_train),columns=preprocessor.get_feature_names_out())\n",
    "X_test=pd.DataFrame(preprocessor.transform(X_test),columns=preprocessor.get_feature_names_out())"
   ]
  },
  {
   "cell_type": "code",
   "execution_count": 27,
   "id": "cea80ddc",
   "metadata": {},
   "outputs": [
    {
     "data": {
      "text/plain": [
       "Index(['num_pipeline__Line_Item_Quantity', 'num_pipeline__Pack_Price',\n",
       "       'num_pipeline__Unit_Price', 'num_pipeline__Weight',\n",
       "       'num_pipeline__Freight_Cost', 'num_pipeline__Line_Item_Insurance',\n",
       "       'nom_cat_pipeline__Drop_point_Côte d'Ivoire',\n",
       "       'nom_cat_pipeline__Drop_point_Ethiopia',\n",
       "       'nom_cat_pipeline__Drop_point_Guyana',\n",
       "       'nom_cat_pipeline__Drop_point_Haiti',\n",
       "       'nom_cat_pipeline__Drop_point_Kenya',\n",
       "       'nom_cat_pipeline__Drop_point_Mozambique',\n",
       "       'nom_cat_pipeline__Drop_point_Nigeria',\n",
       "       'nom_cat_pipeline__Drop_point_Others',\n",
       "       'nom_cat_pipeline__Drop_point_Rwanda',\n",
       "       'nom_cat_pipeline__Drop_point_South Africa',\n",
       "       'nom_cat_pipeline__Drop_point_South Sudan',\n",
       "       'nom_cat_pipeline__Drop_point_Tanzania',\n",
       "       'nom_cat_pipeline__Drop_point_Uganda',\n",
       "       'nom_cat_pipeline__Drop_point_Vietnam',\n",
       "       'nom_cat_pipeline__Drop_point_Zambia',\n",
       "       'nom_cat_pipeline__Drop_point_Zimbabwe',\n",
       "       'nom_cat_pipeline__Dosage_Form_Tablet',\n",
       "       'nom_cat_pipeline__Dosage_Form_Tablet - FDC',\n",
       "       'nom_cat_pipeline__Dosage_Form_Test kit',\n",
       "       'nom_cat_pipeline__Pickup_Point_Others',\n",
       "       'Ord_cat_pipeline__Delivery_Status', 'Ord_cat_pipeline__Shipment_Mode'],\n",
       "      dtype='object')"
      ]
     },
     "execution_count": 27,
     "metadata": {},
     "output_type": "execute_result"
    }
   ],
   "source": [
    "X_train.columns"
   ]
  },
  {
   "cell_type": "code",
   "execution_count": 28,
   "id": "d9639a7d",
   "metadata": {},
   "outputs": [],
   "source": [
    "X_train.columns = [\n",
    "    'Line Item Quantity', \n",
    "    'Pack Price',\n",
    "    'Unit Price', \n",
    "    'Weight (Kilograms)',\n",
    "    'Freight Cost (USD)',\n",
    "    'Line Item Insurance (USD)',\n",
    "    \"Drop point_Côte d'Ivoire\",\n",
    "    'Drop point_Ethiopia',\n",
    "    'Drop point_Guyana',\n",
    "    'Drop point_Haiti',\n",
    "    'Drop point_Kenya',\n",
    "    'Drop point_Mozambique',\n",
    "    'Drop point_Nigeria',\n",
    "    'Drop point_Others',\n",
    "    'Drop point_Rwanda',\n",
    "    'Drop point_South Africa',\n",
    "    'Drop point_South Sudan',\n",
    "    'Drop point_Tanzania',\n",
    "    'Drop point_Uganda',\n",
    "    'Drop point_Vietnam',\n",
    "    'Drop point_Zambia',\n",
    "    'Drop point_Zimbabwe',\n",
    "    'Dosage Form_Tablet',\n",
    "    'Dosage Form_Tablet - FDC',\n",
    "    'Dosage Form_Test kit',\n",
    "    'Pickup Point_Others',\n",
    "    'Delivery Status',\n",
    "    'Shipment Mode'\n",
    "]"
   ]
  },
  {
   "cell_type": "code",
   "execution_count": 29,
   "id": "bca8b200",
   "metadata": {},
   "outputs": [],
   "source": [
    "X_test.columns = [\n",
    "    'Line Item Quantity', \n",
    "    'Pack Price',\n",
    "    'Unit Price', \n",
    "    'Weight (Kilograms)',\n",
    "    'Freight Cost (USD)',\n",
    "    'Line Item Insurance (USD)',\n",
    "    \"Drop point_Côte d'Ivoire\",\n",
    "    'Drop point_Ethiopia',\n",
    "    'Drop point_Guyana',\n",
    "    'Drop point_Haiti',\n",
    "    'Drop point_Kenya',\n",
    "    'Drop point_Mozambique',\n",
    "    'Drop point_Nigeria',\n",
    "    'Drop point_Others',\n",
    "    'Drop point_Rwanda',\n",
    "    'Drop point_South Africa',\n",
    "    'Drop point_South Sudan',\n",
    "    'Drop point_Tanzania',\n",
    "    'Drop point_Uganda',\n",
    "    'Drop point_Vietnam',\n",
    "    'Drop point_Zambia',\n",
    "    'Drop point_Zimbabwe',\n",
    "    'Dosage Form_Tablet',\n",
    "    'Dosage Form_Tablet - FDC',\n",
    "    'Dosage Form_Test kit',\n",
    "    'Pickup Point_Others',\n",
    "    'Delivery Status',\n",
    "    'Shipment Mode'\n",
    "]"
   ]
  },
  {
   "cell_type": "code",
   "execution_count": 30,
   "id": "11d71dcc",
   "metadata": {},
   "outputs": [
    {
     "data": {
      "text/html": [
       "<div>\n",
       "<style scoped>\n",
       "    .dataframe tbody tr th:only-of-type {\n",
       "        vertical-align: middle;\n",
       "    }\n",
       "\n",
       "    .dataframe tbody tr th {\n",
       "        vertical-align: top;\n",
       "    }\n",
       "\n",
       "    .dataframe thead th {\n",
       "        text-align: right;\n",
       "    }\n",
       "</style>\n",
       "<table border=\"1\" class=\"dataframe\">\n",
       "  <thead>\n",
       "    <tr style=\"text-align: right;\">\n",
       "      <th></th>\n",
       "      <th>Line Item Quantity</th>\n",
       "      <th>Pack Price</th>\n",
       "      <th>Unit Price</th>\n",
       "      <th>Weight (Kilograms)</th>\n",
       "      <th>Freight Cost (USD)</th>\n",
       "      <th>Line Item Insurance (USD)</th>\n",
       "      <th>Drop point_Côte d'Ivoire</th>\n",
       "      <th>Drop point_Ethiopia</th>\n",
       "      <th>Drop point_Guyana</th>\n",
       "      <th>Drop point_Haiti</th>\n",
       "      <th>...</th>\n",
       "      <th>Drop point_Uganda</th>\n",
       "      <th>Drop point_Vietnam</th>\n",
       "      <th>Drop point_Zambia</th>\n",
       "      <th>Drop point_Zimbabwe</th>\n",
       "      <th>Dosage Form_Tablet</th>\n",
       "      <th>Dosage Form_Tablet - FDC</th>\n",
       "      <th>Dosage Form_Test kit</th>\n",
       "      <th>Pickup Point_Others</th>\n",
       "      <th>Delivery Status</th>\n",
       "      <th>Shipment Mode</th>\n",
       "    </tr>\n",
       "  </thead>\n",
       "  <tbody>\n",
       "    <tr>\n",
       "      <th>0</th>\n",
       "      <td>-2.020566</td>\n",
       "      <td>0.612595</td>\n",
       "      <td>0.635282</td>\n",
       "      <td>-2.292517</td>\n",
       "      <td>-2.149140</td>\n",
       "      <td>-1.663837</td>\n",
       "      <td>0.0</td>\n",
       "      <td>0.0</td>\n",
       "      <td>0.0</td>\n",
       "      <td>0.0</td>\n",
       "      <td>...</td>\n",
       "      <td>0.0</td>\n",
       "      <td>0.0</td>\n",
       "      <td>0.0</td>\n",
       "      <td>0.0</td>\n",
       "      <td>0.0</td>\n",
       "      <td>1.0</td>\n",
       "      <td>0.0</td>\n",
       "      <td>0.0</td>\n",
       "      <td>1.0</td>\n",
       "      <td>1.0</td>\n",
       "    </tr>\n",
       "    <tr>\n",
       "      <th>1</th>\n",
       "      <td>0.375539</td>\n",
       "      <td>-0.808114</td>\n",
       "      <td>-0.438575</td>\n",
       "      <td>-0.511988</td>\n",
       "      <td>-0.699690</td>\n",
       "      <td>-0.162580</td>\n",
       "      <td>1.0</td>\n",
       "      <td>0.0</td>\n",
       "      <td>0.0</td>\n",
       "      <td>0.0</td>\n",
       "      <td>...</td>\n",
       "      <td>0.0</td>\n",
       "      <td>0.0</td>\n",
       "      <td>0.0</td>\n",
       "      <td>0.0</td>\n",
       "      <td>0.0</td>\n",
       "      <td>1.0</td>\n",
       "      <td>0.0</td>\n",
       "      <td>1.0</td>\n",
       "      <td>0.0</td>\n",
       "      <td>1.0</td>\n",
       "    </tr>\n",
       "    <tr>\n",
       "      <th>2</th>\n",
       "      <td>0.742709</td>\n",
       "      <td>-0.114020</td>\n",
       "      <td>-0.046720</td>\n",
       "      <td>0.683158</td>\n",
       "      <td>0.601650</td>\n",
       "      <td>0.653629</td>\n",
       "      <td>0.0</td>\n",
       "      <td>0.0</td>\n",
       "      <td>0.0</td>\n",
       "      <td>0.0</td>\n",
       "      <td>...</td>\n",
       "      <td>0.0</td>\n",
       "      <td>1.0</td>\n",
       "      <td>0.0</td>\n",
       "      <td>0.0</td>\n",
       "      <td>0.0</td>\n",
       "      <td>1.0</td>\n",
       "      <td>0.0</td>\n",
       "      <td>0.0</td>\n",
       "      <td>1.0</td>\n",
       "      <td>0.0</td>\n",
       "    </tr>\n",
       "    <tr>\n",
       "      <th>3</th>\n",
       "      <td>1.053870</td>\n",
       "      <td>-0.426304</td>\n",
       "      <td>-0.483600</td>\n",
       "      <td>0.761705</td>\n",
       "      <td>1.117598</td>\n",
       "      <td>0.854698</td>\n",
       "      <td>0.0</td>\n",
       "      <td>0.0</td>\n",
       "      <td>0.0</td>\n",
       "      <td>0.0</td>\n",
       "      <td>...</td>\n",
       "      <td>0.0</td>\n",
       "      <td>0.0</td>\n",
       "      <td>0.0</td>\n",
       "      <td>0.0</td>\n",
       "      <td>0.0</td>\n",
       "      <td>1.0</td>\n",
       "      <td>0.0</td>\n",
       "      <td>0.0</td>\n",
       "      <td>0.0</td>\n",
       "      <td>1.0</td>\n",
       "    </tr>\n",
       "    <tr>\n",
       "      <th>4</th>\n",
       "      <td>-2.054114</td>\n",
       "      <td>1.050547</td>\n",
       "      <td>-0.460987</td>\n",
       "      <td>-0.835447</td>\n",
       "      <td>-0.830689</td>\n",
       "      <td>-1.556931</td>\n",
       "      <td>0.0</td>\n",
       "      <td>0.0</td>\n",
       "      <td>0.0</td>\n",
       "      <td>0.0</td>\n",
       "      <td>...</td>\n",
       "      <td>0.0</td>\n",
       "      <td>0.0</td>\n",
       "      <td>0.0</td>\n",
       "      <td>0.0</td>\n",
       "      <td>0.0</td>\n",
       "      <td>0.0</td>\n",
       "      <td>0.0</td>\n",
       "      <td>1.0</td>\n",
       "      <td>0.0</td>\n",
       "      <td>1.0</td>\n",
       "    </tr>\n",
       "  </tbody>\n",
       "</table>\n",
       "<p>5 rows × 28 columns</p>\n",
       "</div>"
      ],
      "text/plain": [
       "   Line Item Quantity  Pack Price  Unit Price  Weight (Kilograms)  \\\n",
       "0           -2.020566    0.612595    0.635282           -2.292517   \n",
       "1            0.375539   -0.808114   -0.438575           -0.511988   \n",
       "2            0.742709   -0.114020   -0.046720            0.683158   \n",
       "3            1.053870   -0.426304   -0.483600            0.761705   \n",
       "4           -2.054114    1.050547   -0.460987           -0.835447   \n",
       "\n",
       "   Freight Cost (USD)  Line Item Insurance (USD)  Drop point_Côte d'Ivoire  \\\n",
       "0           -2.149140                  -1.663837                       0.0   \n",
       "1           -0.699690                  -0.162580                       1.0   \n",
       "2            0.601650                   0.653629                       0.0   \n",
       "3            1.117598                   0.854698                       0.0   \n",
       "4           -0.830689                  -1.556931                       0.0   \n",
       "\n",
       "   Drop point_Ethiopia  Drop point_Guyana  Drop point_Haiti  ...  \\\n",
       "0                  0.0                0.0               0.0  ...   \n",
       "1                  0.0                0.0               0.0  ...   \n",
       "2                  0.0                0.0               0.0  ...   \n",
       "3                  0.0                0.0               0.0  ...   \n",
       "4                  0.0                0.0               0.0  ...   \n",
       "\n",
       "   Drop point_Uganda  Drop point_Vietnam  Drop point_Zambia  \\\n",
       "0                0.0                 0.0                0.0   \n",
       "1                0.0                 0.0                0.0   \n",
       "2                0.0                 1.0                0.0   \n",
       "3                0.0                 0.0                0.0   \n",
       "4                0.0                 0.0                0.0   \n",
       "\n",
       "   Drop point_Zimbabwe  Dosage Form_Tablet  Dosage Form_Tablet - FDC  \\\n",
       "0                  0.0                 0.0                       1.0   \n",
       "1                  0.0                 0.0                       1.0   \n",
       "2                  0.0                 0.0                       1.0   \n",
       "3                  0.0                 0.0                       1.0   \n",
       "4                  0.0                 0.0                       0.0   \n",
       "\n",
       "   Dosage Form_Test kit  Pickup Point_Others  Delivery Status  Shipment Mode  \n",
       "0                   0.0                  0.0              1.0            1.0  \n",
       "1                   0.0                  1.0              0.0            1.0  \n",
       "2                   0.0                  0.0              1.0            0.0  \n",
       "3                   0.0                  0.0              0.0            1.0  \n",
       "4                   0.0                  1.0              0.0            1.0  \n",
       "\n",
       "[5 rows x 28 columns]"
      ]
     },
     "execution_count": 30,
     "metadata": {},
     "output_type": "execute_result"
    }
   ],
   "source": [
    "X_train.head()"
   ]
  },
  {
   "cell_type": "code",
   "execution_count": 31,
   "id": "c0af08ec",
   "metadata": {},
   "outputs": [
    {
     "data": {
      "text/html": [
       "<div>\n",
       "<style scoped>\n",
       "    .dataframe tbody tr th:only-of-type {\n",
       "        vertical-align: middle;\n",
       "    }\n",
       "\n",
       "    .dataframe tbody tr th {\n",
       "        vertical-align: top;\n",
       "    }\n",
       "\n",
       "    .dataframe thead th {\n",
       "        text-align: right;\n",
       "    }\n",
       "</style>\n",
       "<table border=\"1\" class=\"dataframe\">\n",
       "  <thead>\n",
       "    <tr style=\"text-align: right;\">\n",
       "      <th></th>\n",
       "      <th>Line Item Quantity</th>\n",
       "      <th>Pack Price</th>\n",
       "      <th>Unit Price</th>\n",
       "      <th>Weight (Kilograms)</th>\n",
       "      <th>Freight Cost (USD)</th>\n",
       "      <th>Line Item Insurance (USD)</th>\n",
       "      <th>Drop point_Côte d'Ivoire</th>\n",
       "      <th>Drop point_Ethiopia</th>\n",
       "      <th>Drop point_Guyana</th>\n",
       "      <th>Drop point_Haiti</th>\n",
       "      <th>...</th>\n",
       "      <th>Drop point_Uganda</th>\n",
       "      <th>Drop point_Vietnam</th>\n",
       "      <th>Drop point_Zambia</th>\n",
       "      <th>Drop point_Zimbabwe</th>\n",
       "      <th>Dosage Form_Tablet</th>\n",
       "      <th>Dosage Form_Tablet - FDC</th>\n",
       "      <th>Dosage Form_Test kit</th>\n",
       "      <th>Pickup Point_Others</th>\n",
       "      <th>Delivery Status</th>\n",
       "      <th>Shipment Mode</th>\n",
       "    </tr>\n",
       "  </thead>\n",
       "  <tbody>\n",
       "    <tr>\n",
       "      <th>0</th>\n",
       "      <td>1.170952</td>\n",
       "      <td>-0.523213</td>\n",
       "      <td>-0.308130</td>\n",
       "      <td>0.998165</td>\n",
       "      <td>0.550584</td>\n",
       "      <td>1.178954</td>\n",
       "      <td>0.0</td>\n",
       "      <td>0.0</td>\n",
       "      <td>0.0</td>\n",
       "      <td>0.0</td>\n",
       "      <td>...</td>\n",
       "      <td>0.0</td>\n",
       "      <td>0.0</td>\n",
       "      <td>1.0</td>\n",
       "      <td>0.0</td>\n",
       "      <td>1.0</td>\n",
       "      <td>0.0</td>\n",
       "      <td>0.0</td>\n",
       "      <td>0.0</td>\n",
       "      <td>0.0</td>\n",
       "      <td>1.0</td>\n",
       "    </tr>\n",
       "    <tr>\n",
       "      <th>1</th>\n",
       "      <td>-0.555775</td>\n",
       "      <td>0.390219</td>\n",
       "      <td>0.390595</td>\n",
       "      <td>-1.500111</td>\n",
       "      <td>-1.570696</td>\n",
       "      <td>-0.481460</td>\n",
       "      <td>0.0</td>\n",
       "      <td>1.0</td>\n",
       "      <td>0.0</td>\n",
       "      <td>0.0</td>\n",
       "      <td>...</td>\n",
       "      <td>0.0</td>\n",
       "      <td>0.0</td>\n",
       "      <td>0.0</td>\n",
       "      <td>0.0</td>\n",
       "      <td>1.0</td>\n",
       "      <td>0.0</td>\n",
       "      <td>0.0</td>\n",
       "      <td>1.0</td>\n",
       "      <td>1.0</td>\n",
       "      <td>0.0</td>\n",
       "    </tr>\n",
       "    <tr>\n",
       "      <th>2</th>\n",
       "      <td>-1.722463</td>\n",
       "      <td>1.361760</td>\n",
       "      <td>0.776968</td>\n",
       "      <td>-0.981778</td>\n",
       "      <td>-1.462817</td>\n",
       "      <td>-1.381937</td>\n",
       "      <td>0.0</td>\n",
       "      <td>0.0</td>\n",
       "      <td>0.0</td>\n",
       "      <td>0.0</td>\n",
       "      <td>...</td>\n",
       "      <td>0.0</td>\n",
       "      <td>0.0</td>\n",
       "      <td>0.0</td>\n",
       "      <td>0.0</td>\n",
       "      <td>1.0</td>\n",
       "      <td>0.0</td>\n",
       "      <td>0.0</td>\n",
       "      <td>0.0</td>\n",
       "      <td>1.0</td>\n",
       "      <td>1.0</td>\n",
       "    </tr>\n",
       "    <tr>\n",
       "      <th>3</th>\n",
       "      <td>-0.257450</td>\n",
       "      <td>-0.556929</td>\n",
       "      <td>-0.329408</td>\n",
       "      <td>0.667922</td>\n",
       "      <td>0.966235</td>\n",
       "      <td>-0.687587</td>\n",
       "      <td>0.0</td>\n",
       "      <td>0.0</td>\n",
       "      <td>0.0</td>\n",
       "      <td>0.0</td>\n",
       "      <td>...</td>\n",
       "      <td>0.0</td>\n",
       "      <td>0.0</td>\n",
       "      <td>0.0</td>\n",
       "      <td>0.0</td>\n",
       "      <td>0.0</td>\n",
       "      <td>1.0</td>\n",
       "      <td>0.0</td>\n",
       "      <td>0.0</td>\n",
       "      <td>0.0</td>\n",
       "      <td>2.0</td>\n",
       "    </tr>\n",
       "    <tr>\n",
       "      <th>4</th>\n",
       "      <td>0.238051</td>\n",
       "      <td>-2.304459</td>\n",
       "      <td>-0.746729</td>\n",
       "      <td>0.246763</td>\n",
       "      <td>1.061833</td>\n",
       "      <td>-1.736763</td>\n",
       "      <td>0.0</td>\n",
       "      <td>0.0</td>\n",
       "      <td>0.0</td>\n",
       "      <td>0.0</td>\n",
       "      <td>...</td>\n",
       "      <td>0.0</td>\n",
       "      <td>0.0</td>\n",
       "      <td>0.0</td>\n",
       "      <td>0.0</td>\n",
       "      <td>0.0</td>\n",
       "      <td>0.0</td>\n",
       "      <td>0.0</td>\n",
       "      <td>1.0</td>\n",
       "      <td>1.0</td>\n",
       "      <td>0.0</td>\n",
       "    </tr>\n",
       "  </tbody>\n",
       "</table>\n",
       "<p>5 rows × 28 columns</p>\n",
       "</div>"
      ],
      "text/plain": [
       "   Line Item Quantity  Pack Price  Unit Price  Weight (Kilograms)  \\\n",
       "0            1.170952   -0.523213   -0.308130            0.998165   \n",
       "1           -0.555775    0.390219    0.390595           -1.500111   \n",
       "2           -1.722463    1.361760    0.776968           -0.981778   \n",
       "3           -0.257450   -0.556929   -0.329408            0.667922   \n",
       "4            0.238051   -2.304459   -0.746729            0.246763   \n",
       "\n",
       "   Freight Cost (USD)  Line Item Insurance (USD)  Drop point_Côte d'Ivoire  \\\n",
       "0            0.550584                   1.178954                       0.0   \n",
       "1           -1.570696                  -0.481460                       0.0   \n",
       "2           -1.462817                  -1.381937                       0.0   \n",
       "3            0.966235                  -0.687587                       0.0   \n",
       "4            1.061833                  -1.736763                       0.0   \n",
       "\n",
       "   Drop point_Ethiopia  Drop point_Guyana  Drop point_Haiti  ...  \\\n",
       "0                  0.0                0.0               0.0  ...   \n",
       "1                  1.0                0.0               0.0  ...   \n",
       "2                  0.0                0.0               0.0  ...   \n",
       "3                  0.0                0.0               0.0  ...   \n",
       "4                  0.0                0.0               0.0  ...   \n",
       "\n",
       "   Drop point_Uganda  Drop point_Vietnam  Drop point_Zambia  \\\n",
       "0                0.0                 0.0                1.0   \n",
       "1                0.0                 0.0                0.0   \n",
       "2                0.0                 0.0                0.0   \n",
       "3                0.0                 0.0                0.0   \n",
       "4                0.0                 0.0                0.0   \n",
       "\n",
       "   Drop point_Zimbabwe  Dosage Form_Tablet  Dosage Form_Tablet - FDC  \\\n",
       "0                  0.0                 1.0                       0.0   \n",
       "1                  0.0                 1.0                       0.0   \n",
       "2                  0.0                 1.0                       0.0   \n",
       "3                  0.0                 0.0                       1.0   \n",
       "4                  0.0                 0.0                       0.0   \n",
       "\n",
       "   Dosage Form_Test kit  Pickup Point_Others  Delivery Status  Shipment Mode  \n",
       "0                   0.0                  0.0              0.0            1.0  \n",
       "1                   0.0                  1.0              1.0            0.0  \n",
       "2                   0.0                  0.0              1.0            1.0  \n",
       "3                   0.0                  0.0              0.0            2.0  \n",
       "4                   0.0                  1.0              1.0            0.0  \n",
       "\n",
       "[5 rows x 28 columns]"
      ]
     },
     "execution_count": 31,
     "metadata": {},
     "output_type": "execute_result"
    }
   ],
   "source": [
    "X_test.head()"
   ]
  },
  {
   "cell_type": "code",
   "execution_count": 32,
   "id": "170df017",
   "metadata": {},
   "outputs": [],
   "source": [
    "from sklearn.linear_model import Lasso, Ridge"
   ]
  },
  {
   "cell_type": "code",
   "execution_count": 33,
   "id": "6099e62b",
   "metadata": {},
   "outputs": [],
   "source": [
    "regressor = XGBRegressor(booster='gbtree', max_depth=6, learning_rate=0.1, n_estimators=100)"
   ]
  },
  {
   "cell_type": "code",
   "execution_count": 34,
   "id": "eddde5b5",
   "metadata": {},
   "outputs": [
    {
     "data": {
      "text/html": [
       "<style>#sk-container-id-1 {color: black;}#sk-container-id-1 pre{padding: 0;}#sk-container-id-1 div.sk-toggleable {background-color: white;}#sk-container-id-1 label.sk-toggleable__label {cursor: pointer;display: block;width: 100%;margin-bottom: 0;padding: 0.3em;box-sizing: border-box;text-align: center;}#sk-container-id-1 label.sk-toggleable__label-arrow:before {content: \"▸\";float: left;margin-right: 0.25em;color: #696969;}#sk-container-id-1 label.sk-toggleable__label-arrow:hover:before {color: black;}#sk-container-id-1 div.sk-estimator:hover label.sk-toggleable__label-arrow:before {color: black;}#sk-container-id-1 div.sk-toggleable__content {max-height: 0;max-width: 0;overflow: hidden;text-align: left;background-color: #f0f8ff;}#sk-container-id-1 div.sk-toggleable__content pre {margin: 0.2em;color: black;border-radius: 0.25em;background-color: #f0f8ff;}#sk-container-id-1 input.sk-toggleable__control:checked~div.sk-toggleable__content {max-height: 200px;max-width: 100%;overflow: auto;}#sk-container-id-1 input.sk-toggleable__control:checked~label.sk-toggleable__label-arrow:before {content: \"▾\";}#sk-container-id-1 div.sk-estimator input.sk-toggleable__control:checked~label.sk-toggleable__label {background-color: #d4ebff;}#sk-container-id-1 div.sk-label input.sk-toggleable__control:checked~label.sk-toggleable__label {background-color: #d4ebff;}#sk-container-id-1 input.sk-hidden--visually {border: 0;clip: rect(1px 1px 1px 1px);clip: rect(1px, 1px, 1px, 1px);height: 1px;margin: -1px;overflow: hidden;padding: 0;position: absolute;width: 1px;}#sk-container-id-1 div.sk-estimator {font-family: monospace;background-color: #f0f8ff;border: 1px dotted black;border-radius: 0.25em;box-sizing: border-box;margin-bottom: 0.5em;}#sk-container-id-1 div.sk-estimator:hover {background-color: #d4ebff;}#sk-container-id-1 div.sk-parallel-item::after {content: \"\";width: 100%;border-bottom: 1px solid gray;flex-grow: 1;}#sk-container-id-1 div.sk-label:hover label.sk-toggleable__label {background-color: #d4ebff;}#sk-container-id-1 div.sk-serial::before {content: \"\";position: absolute;border-left: 1px solid gray;box-sizing: border-box;top: 0;bottom: 0;left: 50%;z-index: 0;}#sk-container-id-1 div.sk-serial {display: flex;flex-direction: column;align-items: center;background-color: white;padding-right: 0.2em;padding-left: 0.2em;position: relative;}#sk-container-id-1 div.sk-item {position: relative;z-index: 1;}#sk-container-id-1 div.sk-parallel {display: flex;align-items: stretch;justify-content: center;background-color: white;position: relative;}#sk-container-id-1 div.sk-item::before, #sk-container-id-1 div.sk-parallel-item::before {content: \"\";position: absolute;border-left: 1px solid gray;box-sizing: border-box;top: 0;bottom: 0;left: 50%;z-index: -1;}#sk-container-id-1 div.sk-parallel-item {display: flex;flex-direction: column;z-index: 1;position: relative;background-color: white;}#sk-container-id-1 div.sk-parallel-item:first-child::after {align-self: flex-end;width: 50%;}#sk-container-id-1 div.sk-parallel-item:last-child::after {align-self: flex-start;width: 50%;}#sk-container-id-1 div.sk-parallel-item:only-child::after {width: 0;}#sk-container-id-1 div.sk-dashed-wrapped {border: 1px dashed gray;margin: 0 0.4em 0.5em 0.4em;box-sizing: border-box;padding-bottom: 0.4em;background-color: white;}#sk-container-id-1 div.sk-label label {font-family: monospace;font-weight: bold;display: inline-block;line-height: 1.2em;}#sk-container-id-1 div.sk-label-container {text-align: center;}#sk-container-id-1 div.sk-container {/* jupyter's `normalize.less` sets `[hidden] { display: none; }` but bootstrap.min.css set `[hidden] { display: none !important; }` so we also need the `!important` here to be able to override the default hidden behavior on the sphinx rendered scikit-learn.org. See: https://github.com/scikit-learn/scikit-learn/issues/21755 */display: inline-block !important;position: relative;}#sk-container-id-1 div.sk-text-repr-fallback {display: none;}</style><div id=\"sk-container-id-1\" class=\"sk-top-container\"><div class=\"sk-text-repr-fallback\"><pre>XGBRegressor(base_score=None, booster=&#x27;gbtree&#x27;, callbacks=None,\n",
       "             colsample_bylevel=None, colsample_bynode=None,\n",
       "             colsample_bytree=None, device=None, early_stopping_rounds=None,\n",
       "             enable_categorical=False, eval_metric=None, feature_types=None,\n",
       "             gamma=None, grow_policy=None, importance_type=None,\n",
       "             interaction_constraints=None, learning_rate=0.1, max_bin=None,\n",
       "             max_cat_threshold=None, max_cat_to_onehot=None,\n",
       "             max_delta_step=None, max_depth=6, max_leaves=None,\n",
       "             min_child_weight=None, missing=nan, monotone_constraints=None,\n",
       "             multi_strategy=None, n_estimators=100, n_jobs=None,\n",
       "             num_parallel_tree=None, random_state=None, ...)</pre><b>In a Jupyter environment, please rerun this cell to show the HTML representation or trust the notebook. <br />On GitHub, the HTML representation is unable to render, please try loading this page with nbviewer.org.</b></div><div class=\"sk-container\" hidden><div class=\"sk-item\"><div class=\"sk-estimator sk-toggleable\"><input class=\"sk-toggleable__control sk-hidden--visually\" id=\"sk-estimator-id-1\" type=\"checkbox\" checked><label for=\"sk-estimator-id-1\" class=\"sk-toggleable__label sk-toggleable__label-arrow\">XGBRegressor</label><div class=\"sk-toggleable__content\"><pre>XGBRegressor(base_score=None, booster=&#x27;gbtree&#x27;, callbacks=None,\n",
       "             colsample_bylevel=None, colsample_bynode=None,\n",
       "             colsample_bytree=None, device=None, early_stopping_rounds=None,\n",
       "             enable_categorical=False, eval_metric=None, feature_types=None,\n",
       "             gamma=None, grow_policy=None, importance_type=None,\n",
       "             interaction_constraints=None, learning_rate=0.1, max_bin=None,\n",
       "             max_cat_threshold=None, max_cat_to_onehot=None,\n",
       "             max_delta_step=None, max_depth=6, max_leaves=None,\n",
       "             min_child_weight=None, missing=nan, monotone_constraints=None,\n",
       "             multi_strategy=None, n_estimators=100, n_jobs=None,\n",
       "             num_parallel_tree=None, random_state=None, ...)</pre></div></div></div></div></div>"
      ],
      "text/plain": [
       "XGBRegressor(base_score=None, booster='gbtree', callbacks=None,\n",
       "             colsample_bylevel=None, colsample_bynode=None,\n",
       "             colsample_bytree=None, device=None, early_stopping_rounds=None,\n",
       "             enable_categorical=False, eval_metric=None, feature_types=None,\n",
       "             gamma=None, grow_policy=None, importance_type=None,\n",
       "             interaction_constraints=None, learning_rate=0.1, max_bin=None,\n",
       "             max_cat_threshold=None, max_cat_to_onehot=None,\n",
       "             max_delta_step=None, max_depth=6, max_leaves=None,\n",
       "             min_child_weight=None, missing=nan, monotone_constraints=None,\n",
       "             multi_strategy=None, n_estimators=100, n_jobs=None,\n",
       "             num_parallel_tree=None, random_state=None, ...)"
      ]
     },
     "execution_count": 34,
     "metadata": {},
     "output_type": "execute_result"
    }
   ],
   "source": [
    "regressor.fit(X_train, y_train)"
   ]
  },
  {
   "cell_type": "code",
   "execution_count": 35,
   "id": "9da65661",
   "metadata": {},
   "outputs": [
    {
     "name": "stdout",
     "output_type": "stream",
     "text": [
      "Model Performance on Train set: 0.998561062819479\n",
      "Model Performance on Test set: 0.997458824971207\n"
     ]
    }
   ],
   "source": [
    "y_pred_test = regressor.predict(X_test)\n",
    "y_pred_train = regressor.predict(X_train)\n",
    "print('Model Performance on Train set:', r2_score(y_train, y_pred_train))\n",
    "print('Model Performance on Test set:', r2_score(y_test, y_pred_test))"
   ]
  },
  {
   "cell_type": "code",
   "execution_count": 36,
   "id": "0945efc0",
   "metadata": {},
   "outputs": [
    {
     "data": {
      "text/plain": [
       "0.13258482409109587"
      ]
     },
     "execution_count": 36,
     "metadata": {},
     "output_type": "execute_result"
    }
   ],
   "source": [
    "np.sqrt(mean_squared_error(y_test, y_pred_test))"
   ]
  },
  {
   "cell_type": "code",
   "execution_count": 37,
   "id": "cd420d1f",
   "metadata": {},
   "outputs": [
    {
     "data": {
      "image/png": "[encoded data removed]",
      "text/plain": [
       "<Figure size 640x480 with 1 Axes>"
      ]
     },
     "metadata": {},
     "output_type": "display_data"
    }
   ],
   "source": [
    "### plot performance graph\n",
    "\n",
    "y_pred = regressor.predict(X_test)\n",
    "plt.scatter(y_test, y_pred, alpha=0.5)\n",
    "plt.xlabel('y_test')\n",
    "plt.ylabel('y_pred')\n",
    "plt.show()"
   ]
  },
  {
   "cell_type": "code",
   "execution_count": 38,
   "id": "23be3d91",
   "metadata": {},
   "outputs": [],
   "source": [
    "residuals = y_test - y_pred"
   ]
  },
  {
   "cell_type": "code",
   "execution_count": 39,
   "id": "206f39f0",
   "metadata": {},
   "outputs": [
    {
     "data": {
      "text/plain": [
       "<Axes: xlabel='Line_Item_Value', ylabel='Density'>"
      ]
     },
     "execution_count": 39,
     "metadata": {},
     "output_type": "execute_result"
    },
    {
     "data": {
      "image/png": "[encoded data removed]",
      "text/plain": [
       "<Figure size 640x480 with 1 Axes>"
      ]
     },
     "metadata": {},
     "output_type": "display_data"
    }
   ],
   "source": [
    "sns.distplot(residuals, kde=True)"
   ]
  },
  {
   "cell_type": "code",
   "execution_count": 40,
   "id": "99f4db8a",
   "metadata": {},
   "outputs": [],
   "source": [
    "import pickle\n",
    "pickle.dump(preprocessor, open('preprocessor.pkl', 'wb'))"
   ]
  },
  {
   "cell_type": "code",
   "execution_count": 41,
   "id": "cecc2bc4",
   "metadata": {},
   "outputs": [],
   "source": [
    "with open('preprocessor.pkl', 'rb') as f:\n",
    "    o = pickle.load(f)"
   ]
  },
  {
   "cell_type": "code",
   "execution_count": 44,
   "id": "2775f2df",
   "metadata": {},
   "outputs": [],
   "source": [
    "pickle.dump(regressor, open('regressor.pkl', 'wb'))"
   ]
  },
  {
   "cell_type": "code",
   "execution_count": null,
   "id": "0348470a",
   "metadata": {},
   "outputs": [],
   "source": []
  }
 ],
 "metadata": {
  "kernelspec": {
   "display_name": "Python 3 (ipykernel)",
   "language": "python",
   "name": "python3"
  },
  "language_info": {
   "codemirror_mode": {
    "name": "ipython",
    "version": 3
   },
   "file_extension": ".py",
   "mimetype": "text/x-python",
   "name": "python",
   "nbconvert_exporter": "python",
   "pygments_lexer": "ipython3",
   "version": "3.10.13"
  }
 },
 "nbformat": 4,
 "nbformat_minor": 5
}
